{
 "cells": [
  {
   "cell_type": "code",
   "execution_count": null,
   "metadata": {},
   "outputs": [],
   "source": [
    "#replacing all empty strings with NaN\n",
    "df = df.replace(r'^\\s*$', np.nan, regex=True)"
   ]
  },
  {
   "cell_type": "code",
   "execution_count": null,
   "metadata": {},
   "outputs": [],
   "source": [
    "#Remove the footnotes from the 'Other Source Deaths' column\n",
    "df = df.drop(['footnote column name'],axis = 1)"
   ]
  },
  {
   "cell_type": "code",
   "execution_count": null,
   "metadata": {},
   "outputs": [],
   "source": [
    "#Getting rif of letters in magnitude column\n",
    "wikipedia_df['magnitude'] = wikipedia_df['magnitude'][0:3]\n",
    "\n",
    "#Convert Magnitude to a numeric type.\n",
    "df['MagnitudeColumn'] = df[''].astype(float)"
   ]
  },
  {
   "cell_type": "code",
   "execution_count": null,
   "metadata": {},
   "outputs": [],
   "source": [
    "#Also converting death columns\n",
    "astype({'Age': 'float64', 'Marks': 'object'}))\n",
    "df['Death_Column_1'] = df['Death_Column_1'].astype(int)\n",
    "df['Death_Column_2'] = df['Death_Column_2'].astype(int)\n",
    "df['Death_Column_3'] = df['Death_Column_3'].astype(int)\n",
    "df['Death_Column_4'] = df['Death_Column_4'].astype(int)"
   ]
  },
  {
   "cell_type": "code",
   "execution_count": null,
   "metadata": {},
   "outputs": [],
   "source": [
    "#Correct number of deaths when there is more than one value.\n",
    "df['deaths'] = frame[['Death_Column_1','Death_Column_2','Death_Column_3','Death_Column_4']].apply(max, axis=1)"
   ]
  },
  {
   "cell_type": "code",
   "execution_count": null,
   "metadata": {},
   "outputs": [],
   "source": [
    "wikipedia_df['magnitude'] = wikipedia_df['magnitude'].astype(str).str[0:3]\n",
    "\n"
   ]
  },
  {
   "cell_type": "code",
   "execution_count": null,
   "metadata": {},
   "outputs": [],
   "source": [
    "wikipedia_df['country'] = wikipedia_df['country'].str.replace(r\"\\(.*?\\)\",\"\")"
   ]
  }
 ],
 "metadata": {
  "kernelspec": {
   "display_name": "Python 3",
   "language": "python",
   "name": "python3"
  },
  "language_info": {
   "codemirror_mode": {
    "name": "ipython",
    "version": 3
   },
   "file_extension": ".py",
   "mimetype": "text/x-python",
   "name": "python",
   "nbconvert_exporter": "python",
   "pygments_lexer": "ipython3",
   "version": "3.7.6"
  }
 },
 "nbformat": 4,
 "nbformat_minor": 4
}
